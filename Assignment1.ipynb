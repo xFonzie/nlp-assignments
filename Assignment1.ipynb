{
  "cells": [
    {
      "cell_type": "markdown",
      "metadata": {
        "id": "RKboZnAdgrRM"
      },
      "source": [
        "# [NLP] Assignment 1: Tokenization\n",
        "\n",
        "In this assignment, you need to tokenize the text of the Twitter(X) users posts(tweets). The assignment consists of two tasks. When you finish all the tasks, create a GitHub repository for this assignment (you can use this repo later for the other assignments) and submit this notebook in the repository. Leave `requirements.txt` file if your code requires additional installations. Submit the link to the repository in Moodle.\n",
        "\n",
        "The [data](https://drive.google.com/file/d/15x_wPAflvYQ2Xh38iNQGrqUIWLj5l5Nw/view?usp=share_link) contains 5 files whereby each contains 44 tweets. Each tweet is separated by a newline."
      ]
    },
    {
      "cell_type": "markdown",
      "metadata": {
        "id": "aLDjjAvemUP_"
      },
      "source": [
        "## Task 1. Tokenize some tweets manually (20 points)\n",
        "\n",
        "As a first task you need to tokenize first 15 tweets from `file2` by hand. This will allow you to understand the problem from a linguistic point of view. The guidelines for tweet tokenization are as follows:\n",
        "\n",
        "- Each smiley is a separate token\n",
        "- Each hashtag is an individual token. Each user reference is an individual token\n",
        "- If a word has spaces between them then it is converted to a single token\n",
        "- All punctuations are individual tokens. This includes double-quotes and single quotes also\n",
        "- A URL is a single token\n",
        "\n",
        "Example of output\n",
        "\n",
        "    Input tweet\n",
        "    @xfranman Old age has made N A T O!\n",
        "\n",
        "    Tokenized tweet (separated by comma)\n",
        "    @xfranman , Old , age , has , made , NATO , !"
      ]
    },
    {
      "cell_type": "markdown",
      "metadata": {
        "id": "7KKKwTidnzUw"
      },
      "source": [
        "\n",
        "    1. Input tweet\n",
        "    Camping in Maine for the weekend. Hey Dad, Mama Loves YOU: http://www.mamapalooza.com\n",
        "    1. Tokenized tweet\n",
        "    Camping , in , Maine , for , the , weekend , . , Hey , Dad , , , Mama , Loves , YOU , : , http://www.mamapalooza.com\n",
        "\n",
        "    2. Input tweet\n",
        "    Its american tradition bitch\n",
        "    2. Tokenized tweet\n",
        "    Its , american , tradition , bitch\n",
        "\n",
        "    3. Input tweet\n",
        "    @ThroughTheVoid They love it! The only pleasure they get in life. I actually do that. I'm sure I hear a tiny squeak... Then louder ones\n",
        "    3. Tokenized tweet\n",
        "    @ThroughTheVoid , They , love , it , ! , The , only , pleasure , they , get , in , life , . , I , actually , do , that , . , I , ' , m , sure , I , hear , a , tiny , squeak , ... , Then , louder , ones\n",
        "\n",
        "    4. Input tweet\n",
        "    \" RT @latti: @AbsoHilare stop tweeting in church! Lol <--- \"\"I tweet because I'm happy, I tweet because I'm free\"\" LOL!\"\n",
        "    4. Tokenized tweet\n",
        "    \" , RT , @latti , : , @AbsoHilare , stop , tweeting , in , church , ! , Lol , <--- , \" , \" , I , tweet , because , I , ' , m , happy , , , I , tweet , because , I , ' , m , free , \" , \" , LOL , ! , \"\n",
        "\n",
        "    5. Input tweet\n",
        "    Samsung Mini S2 portable HDD graced with colors that perfectly match your tacky beach gear: Sammy's done it aga.. http://tinyurl.com/lb5p6m\n",
        "    5. Tokenized tweet\n",
        "    Samsung , Mini , S2 , portable , HDD , graced , with , colors , that , perfectly , match , your , tacky , beach , gear , : , Sammy , ' , s , done , it , aga , .. , http://tinyurl.com/lb5p6m\n",
        "\n",
        "    6. Input tweet\n",
        "    @dialloc congrats on finding your way over. it may be slow going at first. hang in there. it's kinda cool when u get up to speed.\n",
        "    6. Tokenized tweet\n",
        "    @dialloc , congrats , on , finding , your , way , over , . , it , may , be , slow , going , at , first , . , hang , in , there , . , it , ' , s , kinda , cool , when , u , get , up , to , speed , .\n",
        "\n",
        "    7. Input tweet\n",
        "    iPhone activation delays continue, Apple offers $30 http://twt.gs/l3Ki\n",
        "    7. Tokenized tweet\n",
        "    iPhone , activation , delays , continue , , , Apple , offers , $ , 30 , http://twt.gs/l3Ki\n",
        "\n",
        "    8. Input tweet\n",
        "    RT @GoogleAtWork Gmail maximum attachment size now 25MB http://bit.ly/62mjw Nice!!!\n",
        "    8. Tokenized tweet\n",
        "    RT , @GoogleAtWork , Gmail , maximum , attachment , size , now , 25 , MB , http://bit.ly/62mjw , Nice , ! , ! , !\n",
        "\n",
        "    9. Input tweet\n",
        "    RT @acfou The Ads Won Awards for Crispin; But Did Nothing for Client BurgerKing's Sales/Marketshare - Big Surprise - http://ping.fm/vw8TI\n",
        "    9. Tokenized tweet\n",
        "    RT , @acfou , The , Ads , Won , Awards , for , Crispin , ; , But , Did , Nothing , for , Client , BurgerKing , ' , s , Sales , / , Marketshare , - , Big , Surprise , - , http://ping.fm/vw8TI\n",
        "\n",
        "    10. Input tweet\n",
        "    Hey doll! Great I missed True Blood yday boo lol Rt @FrankBanuat78 @jhillstephens Hello Sunshine how are u today? :-)\n",
        "    10. Tokenized tweet\n",
        "    Hey , doll , ! , Great , I , missed , True , Blood , yday , boo , lol , Rt , @FrankBanuat78 , @jhillstephens , Hello , Sunshine , how , are , u , today , ? , :-)\n",
        "\n",
        "    11. Input tweet\n",
        "    Australian artist Pogo made these free songs primarily from sampled audio from Alice In Wonderland. http://www.last.fm/music/Pogo/Wonderland\n",
        "    11. Tokenized tweet\n",
        "    Australian , artist , Pogo , made , these , free , songs , primarily , from , sampled , audio , from , Alice , In , Wonderland , . , http://www.last.fm/music/Pogo/Wonderland\n",
        "\n",
        "    12. Input tweet\n",
        "    @mppritchard they wanted to sell all the preorders & then sell all of the ones they had in stock to those that just walked in. Can't do both\n",
        "    12. Tokenized tweet\n",
        "    @mppritchard , they , wanted , to , sell , all , the , preorders , & , then , sell , all , of , the , ones , they , had , in , stock , to , those , that , just , walked , in , . , Can , ' , t , do , both\n",
        "\n",
        "    13. Input tweet\n",
        "    Incoming: Frightened Rabbit, Sept. 22 (Tucson): If Fat Cat Records is going to send three great bands from Scot.. http://tinyurl.com/nz6xcv\n",
        "    13. Tokenized tweet\n",
        "    Incoming , : , Frightened , Rabbit , , , Sept , . , 22 , ( , Tucson , ) , : , If , Fat , Cat , Records , is , going , to , send , three , great , bands , from , Scot , .. , http://tinyurl.com/nz6xcv\n",
        "\n",
        "    14. Input tweet\n",
        "    Hey @ginoandfran please greet philip! (GinoandFran live > http://ustre.am/2YyQ)\n",
        "    14. Tokenized tweet\n",
        "    Hey , @ginoandfran , please , greet , philip , ! , ( , GinoandFran , live , > , http://ustre.am/2YyQ , )\n",
        "\n",
        "    15. Input tweet\n",
        "    Ik weet niet wie er achter de T-Mobile iPhone Twitter zit maar ik vind het niet echt 'corporate' taalgebruik... Best vreemd eigenlijk\n",
        "    15. Tokenized tweet\n",
        "    Ik , weet , niet , wie , er , achter , de , T-Mobile , iPhone , Twitter , zit , maar , ik , vind , het , niet , echt , ' , corporate , ' , taalgebruik , ... , Best , vreemd , eigenlijk\n",
        "    "
      ]
    },
    {
      "cell_type": "markdown",
      "metadata": {
        "id": "-2J2AD2nmUhi"
      },
      "source": [
        "## Task 2. Implement [Byte-Pair Encoding(BPE)](https://arxiv.org/pdf/1508.07909.pdf) Tokenizer (80 points)\n",
        "\n",
        "### Task 2.1. Implementation (60 points)\n",
        "\n",
        "Implement the tokenizer as the BPETokenizer class:\n",
        "* Implement `train` method that learns merges and builds the vocabulary of the specified `vocab_size` (25 points).\n",
        "* Implement `tokenize` method that should tokenize the text according to the learnt merges (25 points).\n",
        "\n",
        "Your code should have docstrings and comments (10 points)."
      ]
    },
    {
      "cell_type": "code",
      "execution_count": 13,
      "metadata": {},
      "outputs": [],
      "source": [
        "from typing import List\n",
        "from collections import defaultdict\n",
        "import re\n",
        "\n",
        "class BPETokenizer:\n",
        "    def __init__(self, vocab_size: int) -> None:\n",
        "        self.vocab_size = vocab_size\n",
        "        # frequencies of each word/token\n",
        "        self.vocab = defaultdict(int)\n",
        "        # vocabulary of tokens\n",
        "        self.token_vocab = set()\n",
        "        # sequence of applied merges\n",
        "        self.history = []\n",
        "\n",
        "    def preprocess_text(self, text: str) -> List[str]:\n",
        "        \"\"\"\n",
        "            Preprocessing step. Used to obtain list of tokens from string.\n",
        "\n",
        "            text: The text to be split into tokens.\n",
        "\n",
        "            returns: List if tokens.\n",
        "        \"\"\"\n",
        "        # make the text lowercase\n",
        "        text = text.lower()\n",
        "\n",
        "        # split the text into tokens using regex\n",
        "        tokens = re.findall(r\"[\\w]+\\s|[\\w]+|[^\\w]\\s|[^\\w]\", text)\n",
        "\n",
        "        # add spaces between the characters\n",
        "        tokens = [' '.join(token) for token in tokens]\n",
        "\n",
        "        # replace the spaces with special symbol if last symbol is space or new line\n",
        "        tokens = [token[:-1] + \"</w>\" if token[-1] in (' ', '\\n') else token for token in tokens]\n",
        "\n",
        "        return tokens\n",
        "\n",
        "\n",
        "    def train(self, corpus: List[str]) -> None:\n",
        "        \"\"\"\n",
        "            Train the Byte-Pair Encoding tokenizer, .\n",
        "\n",
        "            corpus: List of texts\n",
        "        \"\"\"\n",
        "\n",
        "        # Preprocess the corpus.\n",
        "        for tweet in corpus:\n",
        "            tokens = self.preprocess_text(tweet)\n",
        "\n",
        "            # add tokens into self.vocab\n",
        "            for token in tokens:\n",
        "                self.vocab[token] += 1\n",
        "\n",
        "        # Next, I apply algorithm from the paper.\n",
        "\n",
        "        def get_stats(vocab):\n",
        "            pairs = defaultdict(int)\n",
        "            for word, freq in vocab.items():\n",
        "                symbols = word.split()\n",
        "                for i in range(len(symbols)-1):\n",
        "                    pairs[symbols[i],symbols[i+1]] += freq\n",
        "            return pairs\n",
        "\n",
        "\n",
        "        def merge_vocab(pair, v_in):\n",
        "            v_out = {}\n",
        "            bigram = re.escape(' '.join(pair))\n",
        "            p = re.compile(r'(?<!\\S)' + bigram + r'(?!\\S)')\n",
        "            for word in v_in:\n",
        "                w_out = p.sub(''.join(pair), word)\n",
        "                v_out[w_out] = v_in[word]\n",
        "            return v_out\n",
        "\n",
        "        vocab = self.vocab\n",
        "\n",
        "        num_merges = self.vocab_size - len(self.token_vocab)\n",
        "        for i in range(num_merges):\n",
        "            pairs = get_stats(vocab)\n",
        "            best = max(pairs, key=pairs.get)\n",
        "            vocab = merge_vocab(best, vocab)\n",
        "            # Save the history\n",
        "            self.history.append(best)\n",
        "\n",
        "    def tokenize(self, text: str) -> List[str]:\n",
        "        \"\"\"\n",
        "            Tokenize the text.\n",
        "\n",
        "            text: Text to be tokenized\n",
        "\n",
        "            returns: List of tokens\n",
        "        \"\"\"\n",
        "        def merge_text(pair, word):\n",
        "            bigram = re.escape(' '.join(pair))\n",
        "            p = re.compile(r'(?<!\\S)' + bigram + r'(?!\\S)')\n",
        "            w_out = p.sub(''.join(pair), word)\n",
        "            return w_out\n",
        "\n",
        "        tokens = self.preprocess_text(text)\n",
        "        word = ' '.join(tokens)\n",
        "        for pair in self.history:\n",
        "            word = merge_text(pair, word)\n",
        "        \n",
        "        return word.split(' ')"
      ]
    },
    {
      "cell_type": "markdown",
      "metadata": {},
      "source": [
        "### Task 2.2. Analysis on Tweets Dataset (10 points)\n",
        "\n",
        "Train the BPE tokenizer on the tweets dataset. Try to tokenize the tweets with the tokenizer of different `vocab_size`. For example, train the BPE tokenizer with `vocab_size` of [base_vocab_size, 250, 500, 750, 1000]. Plot the dependency of the average length of the tokenized tweet by `vocab_size` to analyze how `vocab_size` affects the length of the tokenized tweet on average. Tell what `vocab_size` is preferrable and why."
      ]
    },
    {
      "cell_type": "code",
      "execution_count": 15,
      "metadata": {},
      "outputs": [
        {
          "name": "stderr",
          "output_type": "stream",
          "text": [
            "  0%|          | 0/5 [00:00<?, ?it/s]"
          ]
        },
        {
          "name": "stderr",
          "output_type": "stream",
          "text": [
            "100%|██████████| 5/5 [00:16<00:00,  3.29s/it]\n"
          ]
        },
        {
          "data": {
            "text/plain": [
              "Text(0, 0.5, 'Average tokenized tweet size')"
            ]
          },
          "execution_count": 15,
          "metadata": {},
          "output_type": "execute_result"
        },
        {
          "data": {
            "image/png": "[encoded data removed]",
            "text/plain": [
              "<Figure size 640x480 with 1 Axes>"
            ]
          },
          "metadata": {},
          "output_type": "display_data"
        }
      ],
      "source": [
        "import matplotlib.pyplot as plt\n",
        "from tqdm import tqdm\n",
        "\n",
        "train_corpus = []\n",
        "for i in range(1, 5):\n",
        "    with open(f'Assignment1_data/file{i}', 'r') as f:\n",
        "        train_corpus.extend(f.readlines())\n",
        "\n",
        "with open(f'Assignment1_data/file5', 'r') as f:\n",
        "    test_corpus = f.readlines()\n",
        "\n",
        "average_size = []\n",
        "vocab_sizes = [0, 250, 500, 750, 1000]\n",
        "\n",
        "for vocab_size in tqdm(vocab_sizes):\n",
        "    myTokenizer = BPETokenizer(vocab_size)\n",
        "    myTokenizer.train(train_corpus)\n",
        "    \n",
        "    s = c = 0\n",
        "    for tweet in test_corpus:\n",
        "        s += len(myTokenizer.tokenize(tweet))\n",
        "        c += 1\n",
        "    average_size.append(s / c)\n",
        "\n",
        "plt.plot(vocab_sizes, average_size)\n",
        "plt.xlabel(\"Vocabulary size\")\n",
        "plt.ylabel(\"Average tokenized tweet size\")\n"
      ]
    },
    {
      "cell_type": "markdown",
      "metadata": {},
      "source": [
        "### Task 2.3. Analysis on Dataset of Different Language (10 points)\n",
        "\n",
        "Find a small dataset of texts in a language other than English. The dataset size should be not greater than several megabytes.\n",
        "\n",
        "Train the BPE tokenizer on the dataset that you found. Try to tokenize the sentences from this dataset with the tokenizer of different `vocab_size`. Plot the dependency of the average length of the tokenized sentence by `vocab_size` to analyze how `vocab_size` affects the length of the tokenized sentence on average.\n",
        "\n",
        "Tell how how the average length of the tokenized sentence differs from the average length of the tokenized tweet. Explain why. "
      ]
    },
    {
      "cell_type": "code",
      "execution_count": 17,
      "metadata": {},
      "outputs": [
        {
          "name": "stderr",
          "output_type": "stream",
          "text": [
            "  0%|          | 0/5 [00:00<?, ?it/s]"
          ]
        },
        {
          "name": "stderr",
          "output_type": "stream",
          "text": [
            "100%|██████████| 5/5 [10:47<00:00, 129.55s/it]\n"
          ]
        },
        {
          "data": {
            "text/plain": [
              "Text(0, 0.5, 'Average tokenized tweet size')"
            ]
          },
          "execution_count": 17,
          "metadata": {},
          "output_type": "execute_result"
        },
        {
          "data": {
            "image/png": "[encoded data removed]",
            "text/plain": [
              "<Figure size 640x480 with 1 Axes>"
            ]
          },
          "metadata": {},
          "output_type": "display_data"
        }
      ],
      "source": [
        "# The data was taken from https://github.com/sismetanin/rusentitweet\n",
        "\n",
        "import pandas as pd\n",
        "\n",
        "test_df = pd.read_csv(\"Assignment1_data/rusentitweet_train.csv\")\n",
        "train_corpus = test_df.text\n",
        "\n",
        "train_df = pd.read_csv(\"Assignment1_data/rusentitweet_test.csv\")\n",
        "test_corpus = train_df.text\n",
        "\n",
        "average_size = []\n",
        "vocab_sizes = [0, 250, 500, 750, 1000]\n",
        "\n",
        "for vocab_size in tqdm(vocab_sizes):\n",
        "    myTokenizer = BPETokenizer(vocab_size)\n",
        "    myTokenizer.train(train_corpus)\n",
        "    \n",
        "    s = c = 0\n",
        "    for tweet in test_corpus:\n",
        "        s += len(myTokenizer.tokenize(tweet))\n",
        "        c += 1\n",
        "    average_size.append(s / c)\n",
        "\n",
        "plt.plot(vocab_sizes, average_size)\n",
        "plt.xlabel(\"Vocabulary size\")\n",
        "plt.ylabel(\"Average tokenized tweet size\")\n"
      ]
    },
    {
      "cell_type": "code",
      "execution_count": null,
      "metadata": {},
      "outputs": [],
      "source": []
    }
  ],
  "metadata": {
    "colab": {
      "provenance": [],
      "toc_visible": true
    },
    "kernelspec": {
      "display_name": "Python 3",
      "name": "python3"
    },
    "language_info": {
      "codemirror_mode": {
        "name": "ipython",
        "version": 3
      },
      "file_extension": ".py",
      "mimetype": "text/x-python",
      "name": "python",
      "nbconvert_exporter": "python",
      "pygments_lexer": "ipython3",
      "version": "3.11.4"
    }
  },
  "nbformat": 4,
  "nbformat_minor": 0
}
